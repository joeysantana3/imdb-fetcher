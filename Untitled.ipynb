{
 "cells": [
  {
   "cell_type": "code",
   "execution_count": 1,
   "id": "f4bb9a46-1d67-4bd6-b33a-65290e8138aa",
   "metadata": {},
   "outputs": [],
   "source": [
    "import requests\n",
    "from bs4 import BeautifulSoup\n",
    "import re"
   ]
  },
  {
   "cell_type": "code",
   "execution_count": 2,
   "id": "b1f7ea05-2b61-4065-bd68-3198f3693841",
   "metadata": {},
   "outputs": [],
   "source": [
    "imdb_link = \"https://www.imdb.com/title/tt4972582/?ref_=hm_tpks_tt_i_2_pd_tp1_pbr_ic\""
   ]
  },
  {
   "cell_type": "code",
   "execution_count": 3,
   "id": "b9154a8c-1e4d-4175-91e5-e3eb4dc15106",
   "metadata": {},
   "outputs": [
    {
     "name": "stdout",
     "output_type": "stream",
     "text": [
      "imdb_id: tt4972582\n"
     ]
    }
   ],
   "source": [
    "imdb_id = re.search(r'tt\\d+', imdb_link).group()\n",
    "print(f\"imdb_id: {imdb_id}\")"
   ]
  },
  {
   "cell_type": "code",
   "execution_count": 4,
   "id": "f875cea3-d8ee-4bc5-9dd4-ceb3b1c48b28",
   "metadata": {},
   "outputs": [
    {
     "name": "stdout",
     "output_type": "stream",
     "text": [
      "formatted_imdb_url: https://www.imdb.com/title/tt4972582/\n"
     ]
    }
   ],
   "source": [
    "formatted_imdb_url = f'https://www.imdb.com/title/{imdb_id}/'\n",
    "print(f\"formatted_imdb_url: {formatted_imdb_url}\")"
   ]
  },
  {
   "cell_type": "code",
   "execution_count": 5,
   "id": "feb6a9d9-ac5d-435e-bcfa-cca9a52f0d18",
   "metadata": {},
   "outputs": [],
   "source": [
    "headers = {\n",
    "    'User-Agent': 'Mozilla/5.0 (Macintosh; Intel Mac OS X 10_15_7) '\n",
    "                    'AppleWebKit/537.36 (KHTML, like Gecko) '\n",
    "}"
   ]
  },
  {
   "cell_type": "code",
   "execution_count": 6,
   "id": "1e18cd8f-47d5-4381-86a1-3316448dfd12",
   "metadata": {},
   "outputs": [
    {
     "name": "stdout",
     "output_type": "stream",
     "text": [
      "response code: 200\n"
     ]
    }
   ],
   "source": [
    "page = requests.get(formatted_imdb_url, headers=headers)\n",
    "print(f\"response code: {page.status_code}\")"
   ]
  },
  {
   "cell_type": "code",
   "execution_count": 7,
   "id": "4d2cf16a-eb32-4bd0-a889-3c8229d429bb",
   "metadata": {},
   "outputs": [],
   "source": [
    "soup = BeautifulSoup(page.content, 'html.parser')"
   ]
  },
  {
   "cell_type": "code",
   "execution_count": 25,
   "id": "8b16b4b3-c237-46d6-9e79-d54434d126d1",
   "metadata": {},
   "outputs": [],
   "source": [
    "title_html = soup.find_all('h1')"
   ]
  },
  {
   "cell_type": "code",
   "execution_count": 28,
   "id": "7d527789-83a5-4029-86ed-e7b334e20c8c",
   "metadata": {},
   "outputs": [],
   "source": [
    "title = title_html[0].text"
   ]
  },
  {
   "cell_type": "code",
   "execution_count": 29,
   "id": "38f9146d-ee3c-4026-91ab-ba5f3a7db6e5",
   "metadata": {},
   "outputs": [],
   "source": [
    "poster_img_html = soup.find_all('meta', property=\"og:image\")"
   ]
  },
  {
   "cell_type": "code",
   "execution_count": 30,
   "id": "8c77f68c-84d5-4853-b0d4-1921c47b741f",
   "metadata": {},
   "outputs": [],
   "source": [
    "poster_image = poster_img_html[0].get(\"content\")"
   ]
  },
  {
   "cell_type": "code",
   "execution_count": 31,
   "id": "a47243af-1f52-4634-9812-a6b7da765b31",
   "metadata": {},
   "outputs": [
    {
     "name": "stdout",
     "output_type": "stream",
     "text": [
      "Split https://m.media-amazon.com/images/M/MV5BZTJiNGM2NjItNDRiYy00ZjY0LTgwNTItZDBmZGRlODQ4YThkL2ltYWdlXkEyXkFqcGdeQXVyMjY5ODI4NDk@._V1_FMjpg_UX1000_.jpg\n"
     ]
    }
   ],
   "source": [
    "print(title, poster_image)"
   ]
  },
  {
   "cell_type": "code",
   "execution_count": null,
   "id": "277748a9-eb65-40d9-bd6d-1c3f16efaaa0",
   "metadata": {},
   "outputs": [],
   "source": []
  }
 ],
 "metadata": {
  "kernelspec": {
   "display_name": "Python 3 (ipykernel)",
   "language": "python",
   "name": "python3"
  },
  "language_info": {
   "codemirror_mode": {
    "name": "ipython",
    "version": 3
   },
   "file_extension": ".py",
   "mimetype": "text/x-python",
   "name": "python",
   "nbconvert_exporter": "python",
   "pygments_lexer": "ipython3",
   "version": "3.10.12"
  }
 },
 "nbformat": 4,
 "nbformat_minor": 5
}
